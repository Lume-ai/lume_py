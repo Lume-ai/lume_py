{
  "cells": [
    {
      "cell_type": "markdown",
      "metadata": {
        "id": "rbrNpdSOmZL3"
      },
      "source": [
        "# Lume: Understanding Transformation Results\n",
        "\n",
        "This cookbook walks you through results and the mapping logic that comes with the return of any job execution.\n",
        "\n",
        "### Overview\n",
        "\n",
        "This notebook covers the following topics:\n",
        "\n",
        "- **Retrieving the Result Spec and Associated Mappings:** Learn how to access and interpret the result specification and associated mappings that are returned after a job execution. This section will guide you through understanding the structure of the results, including spec, mappings, and the confidence score.\n",
        "\n",
        "- **Excel and PDF Data Extraction:** Extract data from PDF and Excel files via file paths alone. This section demonstrates how to use Lume's tools to efficiently pull data from these file types, handling various formats and layouts, and converting them into structured data for further processing.\n"
      ]
    },
    {
      "cell_type": "code",
      "execution_count": 1,
      "metadata": {
        "id": "y1aQOHC-mZMD"
      },
      "outputs": [],
      "source": [
        "pip install lume-py # install Lume's Python SDK"
      ]
    },
    {
      "cell_type": "markdown",
      "metadata": {
        "id": "d0lOD1aumZMD"
      },
      "source": [
        "### Set up your lume-api-key\n",
        "\n",
        "First let's define our api-key for making calls to the Lume API."
      ]
    },
    {
      "cell_type": "code",
      "execution_count": null,
      "metadata": {
        "colab": {
          "base_uri": "https://localhost:8080/"
        },
        "collapsed": true,
        "id": "Al7uB3FamZMD",
        "outputId": "8a414bc6-52bf-432e-d44e-494b26f4461a"
      },
      "outputs": [],
      "source": [
        "import lume_py as lume\n",
        "\n",
        "lume.set_api_key(\"...\")  # sets the api-key"
      ]
    },
    {
      "cell_type": "markdown",
      "metadata": {
        "id": "084f-mQtnHXw"
      },
      "source": [
        "### Prior Context\n",
        "\n",
        "This cookbook assumes a pipeline has already been created, called `ecomm_test`. The existing pipeline is meant to map source ecommerce data to an internal ecommerce data model. The target schema used in the pipeline is in this cookbook's folder, as `target_schema.json`. The cell below loads the target schema. You can view it in detail in taret_schema.json within this directory."
      ]
    },
    {
      "cell_type": "code",
      "execution_count": 3,
      "metadata": {},
      "outputs": [],
      "source": [
        "import os\n",
        "import json\n",
        "\n",
        "target_data_path = os.path.join(os.getcwd(), \"./data/target.json\")\n",
        "with open(target_data_path) as f:\n",
        "    target_data = json.load(f)\n",
        "\n",
        "source_data_path = os.path.join(os.getcwd(), \"./data/source.json\")\n",
        "with open(source_data_path) as f:\n",
        "    source_data = json.load(f)"
      ]
    },
    {
      "cell_type": "markdown",
      "metadata": {
        "id": "bTJuZKGVmZMF"
      },
      "source": [
        "##### 1. Retreive a result by id, or see all the results for your account"
      ]
    },
    {
      "cell_type": "code",
      "execution_count": 4,
      "metadata": {},
      "outputs": [],
      "source": [
        "results = await lume.Result.get_results()\n",
        "result = await lume.Result.get_by_id(results[0].id)"
      ]
    },
    {
      "cell_type": "markdown",
      "metadata": {},
      "source": [
        "### For Any Result: Retrieve the Specifications Associated with a Result\n",
        "\n",
        "#### Spec\n",
        "A configuration or mapping schema that specifies how your source data was transformed, mapped, and defaulted.\n",
        "\n",
        "**Certain Keys**\n",
        "\n",
        "Each field under the top-level sections contains:\n",
        "\n",
        "- **`@sources`**: A list of data paths (usually strings representing paths in a nested data structure) from which the value for that field should be sourced.\n",
        "  \n",
        "- **`@default_values`**: A list of default values to use if the sources do not provide a value.\n",
        "  \n",
        "- **`@lookup`**: A dictionary that maps specific source values to target values. This is used for data transformation or categorization.\n",
        "\n",
        "- **`@confidence_scores`** (optional): Confidence score of the lookup table generated. This will only apply to target properties that run the classifier, namely, the ones that have an enum. Confidence values are separated in buckets of Confident, Very High, High, Medium, Low, Very Low, and Incorrect.\n",
        "\n"
      ]
    },
    {
      "cell_type": "code",
      "execution_count": null,
      "metadata": {},
      "outputs": [],
      "source": [
        "await result.get_spec()"
      ]
    },
    {
      "cell_type": "markdown",
      "metadata": {
        "id": "QZNuV_GamZMF"
      },
      "source": [
        "##### Mappings:\n",
        "\n",
        "A Mapping is the generated output from Lume. Each mapping corresponds to a source record, so a job with multiple source records will contain multiple mappings. A mapping contains:\n",
        "\n"
      ]
    },
    {
      "cell_type": "code",
      "execution_count": 8,
      "metadata": {
        "colab": {
          "base_uri": "https://localhost:8080/"
        },
        "id": "VzxQKpCtmZMF",
        "outputId": "726ecfe0-011b-4d9b-84e9-58f9cdf546be"
      },
      "outputs": [],
      "source": [
        "mappings = await result.get_mappings()"
      ]
    },
    {
      "cell_type": "code",
      "execution_count": null,
      "metadata": {},
      "outputs": [],
      "source": [
        "mappings[0].mapped_record  # returns the mapped record from the source data"
      ]
    },
    {
      "cell_type": "code",
      "execution_count": null,
      "metadata": {
        "colab": {
          "base_uri": "https://localhost:8080/",
          "height": 144
        },
        "collapsed": true,
        "id": "i0IaAlpmnYhX",
        "outputId": "ddb1efde-aa61-4a1e-af0c-ffb77aadb10e"
      },
      "outputs": [],
      "source": [
        "await result.get_mappings()  # Retrieves the list of associated mappings associated with a specific result."
      ]
    },
    {
      "cell_type": "markdown",
      "metadata": {
        "id": "mI_5PXaBmZMG"
      },
      "source": [
        "Once a job run executes to completion, a Result object is returned. The Result provides a few pieces of key information:\n",
        "1. Confidence Scores\n",
        "2. Spec: the high-order mapping logic and lookup table of the pipeline used on this job."
      ]
    },
    {
      "cell_type": "code",
      "execution_count": null,
      "metadata": {
        "id": "giL5ouAbkkTw"
      },
      "outputs": [],
      "source": [
        "# generate confidence from result\n",
        "confidence = await result.generate_confidence_scores()\n",
        "\n",
        "# grab spec\n",
        "spec = await result.get_spec()\n",
        "\n",
        "print(\"Confidence: \", confidence)\n",
        "print(\"Spec:\", spec)"
      ]
    }
  ],
  "metadata": {
    "colab": {
      "provenance": []
    },
    "kernelspec": {
      "display_name": "Python 3",
      "language": "python",
      "name": "python3"
    },
    "language_info": {
      "codemirror_mode": {
        "name": "ipython",
        "version": 3
      },
      "file_extension": ".py",
      "mimetype": "text/x-python",
      "name": "python",
      "nbconvert_exporter": "python",
      "pygments_lexer": "ipython3",
      "version": "3.12.4"
    }
  },
  "nbformat": 4,
  "nbformat_minor": 0
}
