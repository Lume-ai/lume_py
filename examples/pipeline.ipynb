{
 "cells": [
  {
   "cell_type": "code",
   "execution_count": null,
   "metadata": {},
   "outputs": [],
   "source": [
    "pip install lume-py"
   ]
  },
  {
   "cell_type": "markdown",
   "metadata": {},
   "source": [
    "# Lume: Pipeline Workflow \n",
    "\n",
    "This cookbook walks you through pipeline creation, retreival, and running.\n",
    "\n",
    "\n",
    "\n"
   ]
  },
  {
   "cell_type": "markdown",
   "metadata": {},
   "source": [
    "\n",
    "\n",
    "### Overview\n",
    "\n",
    "This notebook covers the following topics:\n",
    "\n",
    "- **Creating, Running, and Retrieving Results:** Learn how to define and use pipelines.\n",
    "\n",
    "- **Embedding the Mapper in a Pipeline:** Instructions on how to retreive a mapper from your created or retreived pipeline for efficient data processing.\n",
    "\n",
    "- **Handling Different Data Types:** Strategies when running multiple jobs associated with one/many pipeline.\n",
    "\n"
   ]
  },
  {
   "cell_type": "code",
   "execution_count": null,
   "metadata": {},
   "outputs": [],
   "source": [
    "import lume_py as lume\n",
    "\n",
    "lume.set_api_key(\"...\")"
   ]
  },
  {
   "cell_type": "markdown",
   "metadata": {},
   "source": [
    "### Usage\n",
    "\n",
    "To see piplines created under your user account, the library must be configured to your account's api-key which can be available. You can set this up by replacing the api-key quote above. Now for your user you can retrieve any pipeline that you have created in the past.\n",
    "\n",
    "### Async\n",
    "\n",
    "Asynchronous versions of request-making methods are available by suffixing the method name\n",
    "with `_async`.\n",
    "\n",
    "```python\n",
    "# With Lume run await for any function! Tnis is because lume is a global client in its essence. \n",
    "pipeline = await lume.Pipeline.get_pipelines_data_page()\n",
    "\n",
    "\n",
    "```\n",
    "\n"
   ]
  },
  {
   "cell_type": "markdown",
   "metadata": {},
   "source": [
    "### Prior Context\n",
    "\n",
    "This cookbook assumes a pipeline has already been created, called `ecomm_test`. The existing pipeline is meant to map source ecommerce data to an internal ecommerce data model. The target schema used in the pipeline is in this cookbook's folder, as `target_schema.json`. The cell below loads the target schema and source data (`source_schema.json`). "
   ]
  },
  {
   "cell_type": "code",
   "execution_count": 3,
   "metadata": {},
   "outputs": [],
   "source": [
    "import os\n",
    "import json\n",
    "\n",
    "target_data_path = os.path.join(os.getcwd(), \"./data/target.json\")\n",
    "with open(target_data_path) as f:\n",
    "    target_data = json.load(f)\n",
    "\n",
    "source_data_path = os.path.join(os.getcwd(), \"./data/source.json\")\n",
    "with open(source_data_path) as f:\n",
    "    source_data = json.load(f)"
   ]
  },
  {
   "cell_type": "code",
   "execution_count": null,
   "metadata": {},
   "outputs": [],
   "source": [
    "# get all pipelines\n",
    "pipelines = await lume.Pipeline.get_pipelines_data_page()\n",
    "print(pipelines)"
   ]
  },
  {
   "cell_type": "code",
   "execution_count": null,
   "metadata": {},
   "outputs": [],
   "source": [
    "# retreive an existing pipeline by id or name\n",
    "pipeline = await lume.Pipeline.get_pipeline_by_id(\"pipeline_id/pipeline_name\")\n",
    "print(pipeline)"
   ]
  },
  {
   "cell_type": "markdown",
   "metadata": {},
   "source": [
    "##### 1. Get the corresponding pipeline for your data\n",
    "By passing in your pipeline_id you can retrieve the pipeline you created:\n",
    "- status, id, target_schema_id, source_schema_id, ..."
   ]
  },
  {
   "cell_type": "code",
   "execution_count": null,
   "metadata": {},
   "outputs": [],
   "source": [
    "pipeline = await lume.Pipeline.get_pipeline_by_id(\"...\")"
   ]
  },
  {
   "cell_type": "markdown",
   "metadata": {},
   "source": [
    "##### 2. Create a job for a created pipeline, and run that job."
   ]
  },
  {
   "cell_type": "code",
   "execution_count": 4,
   "metadata": {},
   "outputs": [],
   "source": [
    "# create a pipeline\n",
    "new_pipeline = await lume.Pipeline.create(\n",
    "    name=\"testing-cookbook-sdk-5\",\n",
    "    description=\"ecomm target schema\",\n",
    "    target_schema=target_data,\n",
    ")\n",
    "# creating and running that job\n",
    "job = await new_pipeline.create_job(source_data=source_data)\n",
    "result = await job.run(immediate=True)  # job runs until finished"
   ]
  },
  {
   "cell_type": "markdown",
   "metadata": {},
   "source": [
    "### Retreive Mappings via Result or through running the pipeline directly.\n",
    "```python\n",
    "await result.get_mappings()  # Retrieves the list of associated mappings associated with a specific result.\n",
    "```"
   ]
  },
  {
   "cell_type": "code",
   "execution_count": null,
   "metadata": {},
   "outputs": [],
   "source": [
    "await new_pipeline.run_pipeline(source_data=source_data)  # or retreive mapper directly"
   ]
  },
  {
   "cell_type": "markdown",
   "metadata": {},
   "source": [
    "# Workflow - Seamless Pipeline Management with Async Iteration\n",
    "\n",
    "### Automatically Iterate Through Pipelines\n",
    "\n",
    "- **Creating, Running, and Retrieving Results:** "
   ]
  },
  {
   "cell_type": "code",
   "execution_count": null,
   "metadata": {},
   "outputs": [],
   "source": [
    "# Example: Update all pipelines\n",
    "async def update_all_pipelines():\n",
    "    try:\n",
    "        # Get the list of pipelines\n",
    "        pipeline_data_page = await lume.Pipeline.get_pipelines_data_page()\n",
    "\n",
    "        # Iterate through the list and update each pipeline\n",
    "        for pipeline in pipeline_data_page:\n",
    "            try:\n",
    "                await pipeline.update(\n",
    "                    name=f\"updated_{pipeline.name}\",\n",
    "                    description=\"updated my pipelines w/ new target schema\",\n",
    "                )\n",
    "                print(f\"Updated pipeline {pipeline.id}\")\n",
    "            except Exception as e:\n",
    "                print(\n",
    "                    f\"Failed to update pipeline, consider updating the page size. {pipeline.id}: {e}\"\n",
    "                )\n",
    "\n",
    "    except Exception as e:\n",
    "        print(f\"Failed to retrieve pipelines: {e}\")\n",
    "\n",
    "\n",
    "# Run the function within an event loop\n",
    "if __name__ == \"__main__\":\n",
    "    import asyncio\n",
    "\n",
    "    asyncio.run(update_all_pipelines())"
   ]
  }
 ],
 "metadata": {
  "kernelspec": {
   "display_name": "terminus-3_N_Dp0V-py3.12",
   "language": "python",
   "name": "python3"
  },
  "language_info": {
   "codemirror_mode": {
    "name": "ipython",
    "version": 3
   },
   "file_extension": ".py",
   "mimetype": "text/x-python",
   "name": "python",
   "nbconvert_exporter": "python",
   "pygments_lexer": "ipython3",
   "version": "3.12.4"
  }
 },
 "nbformat": 4,
 "nbformat_minor": 2
}
