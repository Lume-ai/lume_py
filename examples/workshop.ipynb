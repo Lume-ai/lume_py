{
  "cells": [
    {
      "cell_type": "markdown",
      "metadata": {
        "id": "rbrNpdSOmZL3"
      },
      "source": [
        "# Lume: Workshop Editing & Deployment\n",
        "\n",
        "This cookbook walks you through the WorkShop workflow and how you can edit your pipeline easily. \n",
        "\n",
        "### Overview\n",
        "\n",
        "\n",
        "- **Executing and Deploying Workshop Edits:** Learn how to access and interpret the result specification and associated mappings that are returned after a job execution. This section will guide you through understanding the structure of the results, including spec, mappings, and the confidence score.\n"
      ]
    },
    {
      "cell_type": "code",
      "execution_count": 1,
      "metadata": {
        "id": "y1aQOHC-mZMD"
      },
      "outputs": [],
      "source": [
        "pip install lume-py # install Lume's Python SDK"
      ]
    },
    {
      "cell_type": "markdown",
      "metadata": {
        "id": "d0lOD1aumZMD"
      },
      "source": [
        "### Set up your lume-api-key\n",
        "\n",
        "First let's define our api-key for making calls to the Lume API."
      ]
    },
    {
      "cell_type": "code",
      "execution_count": null,
      "metadata": {
        "colab": {
          "base_uri": "https://localhost:8080/"
        },
        "collapsed": true,
        "id": "Al7uB3FamZMD",
        "outputId": "8a414bc6-52bf-432e-d44e-494b26f4461a"
      },
      "outputs": [],
      "source": [
        "import lume_py as lume\n",
        "\n",
        "lume.set_api_key(\"...\")  # sets the api-key"
      ]
    },
    {
      "cell_type": "code",
      "execution_count": null,
      "metadata": {},
      "outputs": [],
      "source": [
        "import os\n",
        "import json\n",
        "\n",
        "target_data_path = os.path.join(os.getcwd(), \"./data/target.json\")\n",
        "with open(target_data_path) as f:\n",
        "    target_data = json.load(f)\n",
        "\n",
        "source_data_path = os.path.join(os.getcwd(), \"./data/source.json\")\n",
        "with open(source_data_path) as f:\n",
        "    source_data = json.load(f)"
      ]
    },
    {
      "cell_type": "markdown",
      "metadata": {
        "id": "084f-mQtnHXw"
      },
      "source": [
        "### Understanding the Workshop\n",
        "\n",
        "A workshop must always be connected to a Job, and thus you create Workshops based on the job. This is because when making edits, the session must have a designated Mapper, source data, and target schema. Thus, a workshop session grounds to a job and its corresponding pipeline.\n",
        "\n",
        "You can create new workshops for a job to make edits. If you deploy the changes and need to make more edits later, simply initiate a new workshop.\n",
        "\n"
      ]
    },
    {
      "cell_type": "markdown",
      "metadata": {
        "id": "bTJuZKGVmZMF"
      },
      "source": [
        "##### 1. Add Workshop to a job (specific)"
      ]
    },
    {
      "cell_type": "code",
      "execution_count": 4,
      "metadata": {},
      "outputs": [],
      "source": [
        "job = lume.Job.get_job_by_id(\"...\")\n",
        "created_workshop = job.create_workshop()"
      ]
    },
    {
      "cell_type": "markdown",
      "metadata": {},
      "source": [
        "##### 2. Add Workshop to a pipeline"
      ]
    },
    {
      "cell_type": "code",
      "execution_count": null,
      "metadata": {},
      "outputs": [],
      "source": [
        "pipeline = lume.Pipeline.get_pipeline_by_id(\"...\")\n",
        "pipeline_workshop = (\n",
        "    pipeline.create_workshop()\n",
        ")  # must have already completed jobs associated"
      ]
    },
    {
      "cell_type": "markdown",
      "metadata": {},
      "source": [
        "##### 3. Retreive a Workshop by ID or get all Workshop data. "
      ]
    },
    {
      "cell_type": "code",
      "execution_count": null,
      "metadata": {},
      "outputs": [],
      "source": [
        "list_of_workshops = await lume.WorkShop.get_workshops()  # get all workshops\n",
        "workshop = await lume.WorkShop.get_by_id(\"...\")  # get workshop by id"
      ]
    },
    {
      "cell_type": "markdown",
      "metadata": {},
      "source": [
        "### Edit Mapping Logic\n",
        "\n",
        "New mapped data will be present to pipe downstream\n",
        "Future uses of the corresponding Pipeline will have the updated Mapper and target schema from the edits.\n",
        "​\n",
        "\n",
        "**Different Edits**\n",
        "\n",
        "Each field under the top-level sections contains:\n",
        "\n",
        "- **`@run_sample`**: Runs a sample for the workshop with the specified ID. Useful for large changes to many target_fields.\n",
        "  \n",
        "- **`@run_mapper`**: Runs the mapper of a workshop with the specified ID. \t\n",
        "  \n",
        "- **`@run_target_schema`**: Runs the target schema for the workshop with the specified ID.\n",
        "\n",
        "- **`@run_prompt`**: Runs the prompt for the workshop with the specified ID, and takes the `target_fields_to_prompt` attribute.\t\n",
        "\n"
      ]
    },
    {
      "cell_type": "code",
      "execution_count": null,
      "metadata": {},
      "outputs": [],
      "source": [
        "workshop_target_path = os.path.join(os.getcwd(), \"./data/workshop_target.json\")\n",
        "with open(workshop_target_path) as f:\n",
        "    workshop_target = json.load(f)"
      ]
    },
    {
      "cell_type": "code",
      "execution_count": null,
      "metadata": {},
      "outputs": [],
      "source": [
        "await workshop.run_sample(sample={...})  # run the workshop with sample data"
      ]
    },
    {
      "cell_type": "code",
      "execution_count": null,
      "metadata": {},
      "outputs": [],
      "source": [
        "await workshop.run_prompt(\n",
        "    target_fields_to_prompt={\"currency\": \"EURO\"}\n",
        ")  # run the workshop with prompt data"
      ]
    },
    {
      "cell_type": "code",
      "execution_count": null,
      "metadata": {},
      "outputs": [],
      "source": [
        "await workshop.run_target_schema(\n",
        "    target_schema=workshop_target\n",
        ")  # run the workshop with target data"
      ]
    },
    {
      "cell_type": "code",
      "execution_count": null,
      "metadata": {},
      "outputs": [],
      "source": [
        "mapper = await lume.Mapper.create(\n",
        "    name=\"mapper_workshop\", data=source_data, target=workshop_target, description=\"...\"\n",
        ")\n",
        "mapper = mapper.mapped_data\n",
        "await workshop.run_mapper(mapper=mapper)  # run the workshop with mapper data"
      ]
    },
    {
      "cell_type": "markdown",
      "metadata": {
        "id": "QZNuV_GamZMF"
      },
      "source": [
        "##### Deploying Your Changes:\n",
        "\n",
        "After making edits, save them through Deploy Workshop. This will update the Mapper in the corresponding pipeline and job, for use in future jobs.\n",
        "\n"
      ]
    },
    {
      "cell_type": "code",
      "execution_count": null,
      "metadata": {},
      "outputs": [],
      "source": [
        "workshop.deploy()  # deploy the workshop with new edits"
      ]
    }
  ],
  "metadata": {
    "colab": {
      "provenance": []
    },
    "kernelspec": {
      "display_name": "Python 3",
      "language": "python",
      "name": "python3"
    },
    "language_info": {
      "codemirror_mode": {
        "name": "ipython",
        "version": 3
      },
      "file_extension": ".py",
      "mimetype": "text/x-python",
      "name": "python",
      "nbconvert_exporter": "python",
      "pygments_lexer": "ipython3",
      "version": "3.12.4"
    }
  },
  "nbformat": 4,
  "nbformat_minor": 0
}
